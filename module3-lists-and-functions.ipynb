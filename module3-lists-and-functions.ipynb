{
 "cells": [
  {
   "cell_type": "code",
   "execution_count": 3,
   "id": "a7a81c6a-308d-4b28-9205-d58aedc42421",
   "metadata": {},
   "outputs": [],
   "source": [
    "#Lee Fawkes\n",
    "#Andrew Emily\n",
    "#SDEV-220 Module 3 Programming Assignment - Lists and Functions"
   ]
  },
  {
   "cell_type": "code",
   "execution_count": 5,
   "id": "660599d0-befa-4b1f-af1a-754850b0613c",
   "metadata": {},
   "outputs": [],
   "source": [
    "#7.4\n",
    "things = [\"mozzarella\", \"cinderella\", \"salmonella\"]"
   ]
  },
  {
   "cell_type": "code",
   "execution_count": 7,
   "id": "a6e065ba-542c-41d3-9657-61ee7f390132",
   "metadata": {},
   "outputs": [
    {
     "name": "stdout",
     "output_type": "stream",
     "text": [
      "['mozzarella', 'Cinderella', 'salmonella']\n"
     ]
    }
   ],
   "source": [
    "#7.5\n",
    "#Capitalize the element in things that referse to a person, and then print the list:\n",
    "things[1] = things[1].capitalize()\n",
    "print(things)\n",
    "#Did it change the element in the list? Yes."
   ]
  },
  {
   "cell_type": "code",
   "execution_count": 9,
   "id": "d44a82c5-54e2-4f0d-b9d4-45fe8accb65a",
   "metadata": {},
   "outputs": [
    {
     "name": "stdout",
     "output_type": "stream",
     "text": [
      "['MOZZARELLA', 'Cinderella', 'salmonella']\n"
     ]
    }
   ],
   "source": [
    "#7.6\n",
    "#Make the cheesy element of thigns all uppercase and then print the list\n",
    "things[0] = things[0].upper()\n",
    "print(things)"
   ]
  },
  {
   "cell_type": "code",
   "execution_count": 11,
   "id": "2d0c7d54-d0dc-4a62-a2be-1952fec74687",
   "metadata": {},
   "outputs": [
    {
     "name": "stdout",
     "output_type": "stream",
     "text": [
      "['MOZZARELLA', 'Cinderella']\n"
     ]
    }
   ],
   "source": [
    "#7.7\n",
    "#Delete disease element and then print list\n",
    "things.remove(\"salmonella\")\n",
    "print(things)"
   ]
  },
  {
   "cell_type": "code",
   "execution_count": 13,
   "id": "d3bbcd17-b28a-42be-84c7-e2ceed73a76f",
   "metadata": {},
   "outputs": [
    {
     "name": "stdout",
     "output_type": "stream",
     "text": [
      "['Harry', 'Ron', 'Hermione']\n"
     ]
    }
   ],
   "source": [
    "#9.1\n",
    "def good():\n",
    "    return [\"Harry\", \"Ron\", \"Hermione\"]\n",
    "\n",
    "print(good())"
   ]
  },
  {
   "cell_type": "code",
   "execution_count": 17,
   "id": "f7ef7a22-0406-4324-89a6-e7070bf507a1",
   "metadata": {},
   "outputs": [
    {
     "name": "stdout",
     "output_type": "stream",
     "text": [
      "The third value returned by get_odds() is 5\n"
     ]
    }
   ],
   "source": [
    "#9.2\n",
    "def get_odds():\n",
    "    for number in range(10):\n",
    "        if number % 2 != 0:\n",
    "            yield number\n",
    "\n",
    "i = 1\n",
    "for value in get_odds():\n",
    "    if i == 3:\n",
    "        third_value = value\n",
    "    i = i + 1\n",
    "\n",
    "print(\"The third value returned by get_odds() is\", third_value)"
   ]
  }
 ],
 "metadata": {
  "kernelspec": {
   "display_name": "Python 3 (ipykernel)",
   "language": "python",
   "name": "python3"
  },
  "language_info": {
   "codemirror_mode": {
    "name": "ipython",
    "version": 3
   },
   "file_extension": ".py",
   "mimetype": "text/x-python",
   "name": "python",
   "nbconvert_exporter": "python",
   "pygments_lexer": "ipython3",
   "version": "3.12.4"
  }
 },
 "nbformat": 4,
 "nbformat_minor": 5
}
